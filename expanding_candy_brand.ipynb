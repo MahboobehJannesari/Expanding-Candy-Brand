{
 "cells": [
  {
   "cell_type": "markdown",
   "metadata": {
    "slideshow": {
     "slide_type": "slide"
    }
   },
   "source": [
    "# **Expanding Candy Brand**\n",
    "\n"
   ]
  },
  {
   "cell_type": "markdown",
   "metadata": {
    "slideshow": {
     "slide_type": "slide"
    }
   },
   "source": [
    "## Objective \n",
    "\n",
    " The idea is to create a brand new product using some store brand candies.\n",
    "\n",
    "So, the objective of this code is finding characteristics to a new prodoct. To achieve this, several machine learning techniques are explored to estimate the relation between different components and popularity for candies. In the end, the best model rank the characteristics and find the most important components for \n",
    "creating new brand.\n",
    "\n",
    "### **Steps should be covered**\n",
    " * Install required python packages \n",
    " * Loading Data from given CSV into Pandas Dataframe.\n",
    " * Data Preparation included Cleaning Messy Data.\n",
    " * Exploratory data analysis (EDA)\n",
    " * Train and validate Regression machine learning models\n",
    " * Feature importance to find the most important components\n",
    "\n"
   ]
  },
  {
   "cell_type": "markdown",
   "metadata": {
    "slideshow": {
     "slide_type": "slide"
    }
   },
   "source": [
    "# **Software Prerequisites**\n",
    "Python 3+\n",
    "\n",
    "Linux Ubuntu 16.04"
   ]
  },
  {
   "cell_type": "markdown",
   "metadata": {
    "slideshow": {
     "slide_type": "slide"
    },
    "toc": true
   },
   "source": [
    "<h1>Table of Contents<span class=\"tocSkip\"></span></h1>\n",
    "<div class=\"toc\"><ul class=\"toc-item\"><li><span><a href=\"#Objective\" data-toc-modified-id=\"Objective-1\"><span class=\"toc-item-num\">1&nbsp;&nbsp;</span>Objective</a></span><ul class=\"toc-item\"><li><span><a href=\"#Steps-should-be-covered\" data-toc-modified-id=\"Steps-should-be-covered-1.1\"><span class=\"toc-item-num\">1.1&nbsp;&nbsp;</span><strong>Steps should be covered</strong></a></span></li></ul></li><li><span><a href=\"#Install-Python-Packages\" data-toc-modified-id=\"Install-Python-Packages-2\"><span class=\"toc-item-num\">2&nbsp;&nbsp;</span><strong>Install Python Packages</strong></a></span></li><li><span><a href=\"#Fetching-Data\" data-toc-modified-id=\"Fetching-Data-3\"><span class=\"toc-item-num\">3&nbsp;&nbsp;</span>Fetching Data</a></span><ul class=\"toc-item\"><li><span><a href=\"#Import-Package-and-Data\" data-toc-modified-id=\"Import-Package-and-Data-3.1\"><span class=\"toc-item-num\">3.1&nbsp;&nbsp;</span>Import Package and Data</a></span></li><li><span><a href=\"#Data-Dictionary\" data-toc-modified-id=\"Data-Dictionary-3.2\"><span class=\"toc-item-num\">3.2&nbsp;&nbsp;</span><strong>Data Dictionary</strong></a></span></li></ul></li><li><span><a href=\"#Data-Cleaning\" data-toc-modified-id=\"Data-Cleaning-4\"><span class=\"toc-item-num\">4&nbsp;&nbsp;</span>Data Cleaning</a></span></li><li><span><a href=\"#EDA\" data-toc-modified-id=\"EDA-5\"><span class=\"toc-item-num\">5&nbsp;&nbsp;</span>EDA</a></span><ul class=\"toc-item\"><li><span><a href=\"#Most-Popular-and-Least-Popular-Candies\" data-toc-modified-id=\"Most-Popular-and-Least-Popular-Candies-5.1\"><span class=\"toc-item-num\">5.1&nbsp;&nbsp;</span>Most Popular and Least Popular Candies</a></span></li><li><span><a href=\"#Most-Frequenntly-Used-Composition\" data-toc-modified-id=\"Most-Frequenntly-Used-Composition-5.2\"><span class=\"toc-item-num\">5.2&nbsp;&nbsp;</span>Most Frequenntly Used Composition</a></span></li><li><span><a href=\"#Correlation-Heatmap\" data-toc-modified-id=\"Correlation-Heatmap-5.3\"><span class=\"toc-item-num\">5.3&nbsp;&nbsp;</span>Correlation Heatmap</a></span></li><li><span><a href=\"#Univariate-Analysis-for-Categorical-Features\" data-toc-modified-id=\"Univariate-Analysis-for-Categorical-Features-5.4\"><span class=\"toc-item-num\">5.4&nbsp;&nbsp;</span>Univariate Analysis for Categorical Features</a></span><ul class=\"toc-item\"><li><span><a href=\"#chocolate-vs.-winpercent\" data-toc-modified-id=\"chocolate-vs.-winpercent-5.4.1\"><span class=\"toc-item-num\">5.4.1&nbsp;&nbsp;</span>chocolate vs. winpercent</a></span></li><li><span><a href=\"#bar-vs.-winpercent\" data-toc-modified-id=\"bar-vs.-winpercent-5.4.2\"><span class=\"toc-item-num\">5.4.2&nbsp;&nbsp;</span>bar vs. winpercent</a></span></li><li><span><a href=\"#peanutyalmondy-vs.-winpercent\" data-toc-modified-id=\"peanutyalmondy-vs.-winpercent-5.4.3\"><span class=\"toc-item-num\">5.4.3&nbsp;&nbsp;</span>peanutyalmondy vs. winpercent</a></span></li><li><span><a href=\"#crispedricewafer-vs-winpercent\" data-toc-modified-id=\"crispedricewafer-vs-winpercent-5.4.4\"><span class=\"toc-item-num\">5.4.4&nbsp;&nbsp;</span>crispedricewafer vs winpercent</a></span></li><li><span><a href=\"#caramel-vs.-winpercent\" data-toc-modified-id=\"caramel-vs.-winpercent-5.4.5\"><span class=\"toc-item-num\">5.4.5&nbsp;&nbsp;</span>caramel vs. winpercent</a></span></li><li><span><a href=\"#nougat-vs.-winpercent\" data-toc-modified-id=\"nougat-vs.-winpercent-5.4.6\"><span class=\"toc-item-num\">5.4.6&nbsp;&nbsp;</span>nougat vs. winpercent</a></span></li><li><span><a href=\"#pluribus-vs.-winpercent\" data-toc-modified-id=\"pluribus-vs.-winpercent-5.4.7\"><span class=\"toc-item-num\">5.4.7&nbsp;&nbsp;</span>pluribus vs. winpercent</a></span></li><li><span><a href=\"#hard-vs.-winpercent\" data-toc-modified-id=\"hard-vs.-winpercent-5.4.8\"><span class=\"toc-item-num\">5.4.8&nbsp;&nbsp;</span>hard vs. winpercent</a></span></li><li><span><a href=\"#fruity-vs.-winpercent\" data-toc-modified-id=\"fruity-vs.-winpercent-5.4.9\"><span class=\"toc-item-num\">5.4.9&nbsp;&nbsp;</span>fruity vs. winpercent</a></span></li></ul></li><li><span><a href=\"#Bivariate-Analysis-(countinuous-features)\" data-toc-modified-id=\"Bivariate-Analysis-(countinuous-features)-5.5\"><span class=\"toc-item-num\">5.5&nbsp;&nbsp;</span>Bivariate Analysis (countinuous features)</a></span><ul class=\"toc-item\"><li><span><a href=\"#pricepercent-vs.-winpercent\" data-toc-modified-id=\"pricepercent-vs.-winpercent-5.5.1\"><span class=\"toc-item-num\">5.5.1&nbsp;&nbsp;</span>pricepercent vs. winpercent</a></span></li><li><span><a href=\"#sugarpercent-vs.-winpercent\" data-toc-modified-id=\"sugarpercent-vs.-winpercent-5.5.2\"><span class=\"toc-item-num\">5.5.2&nbsp;&nbsp;</span>sugarpercent vs. winpercent</a></span></li></ul></li></ul></li><li><span><a href=\"#Perform-the-Training-and-Feature-Ranking\" data-toc-modified-id=\"Perform-the-Training-and-Feature-Ranking-6\"><span class=\"toc-item-num\">6&nbsp;&nbsp;</span>Perform the Training and Feature Ranking</a></span><ul class=\"toc-item\"><li><span><a href=\"#Prepare-Train-Data\" data-toc-modified-id=\"Prepare-Train-Data-6.1\"><span class=\"toc-item-num\">6.1&nbsp;&nbsp;</span>Prepare Train Data</a></span></li><li><span><a href=\"#RandomForest\" data-toc-modified-id=\"RandomForest-6.2\"><span class=\"toc-item-num\">6.2&nbsp;&nbsp;</span>RandomForest</a></span></li><li><span><a href=\"#DecisionTree\" data-toc-modified-id=\"DecisionTree-6.3\"><span class=\"toc-item-num\">6.3&nbsp;&nbsp;</span>DecisionTree</a></span></li><li><span><a href=\"#XGBoost\" data-toc-modified-id=\"XGBoost-6.4\"><span class=\"toc-item-num\">6.4&nbsp;&nbsp;</span>XGBoost</a></span></li><li><span><a href=\"#LinearRegression\" data-toc-modified-id=\"LinearRegression-6.5\"><span class=\"toc-item-num\">6.5&nbsp;&nbsp;</span>LinearRegression</a></span></li><li><span><a href=\"#Ridge-Regression\" data-toc-modified-id=\"Ridge-Regression-6.6\"><span class=\"toc-item-num\">6.6&nbsp;&nbsp;</span>Ridge Regression</a></span></li><li><span><a href=\"#Lasso\" data-toc-modified-id=\"Lasso-6.7\"><span class=\"toc-item-num\">6.7&nbsp;&nbsp;</span>Lasso</a></span></li><li><span><a href=\"#LassoLars\" data-toc-modified-id=\"LassoLars-6.8\"><span class=\"toc-item-num\">6.8&nbsp;&nbsp;</span>LassoLars</a></span></li><li><span><a href=\"#ElasticNet\" data-toc-modified-id=\"ElasticNet-6.9\"><span class=\"toc-item-num\">6.9&nbsp;&nbsp;</span>ElasticNet</a></span></li><li><span><a href=\"#LightGBM\" data-toc-modified-id=\"LightGBM-6.10\"><span class=\"toc-item-num\">6.10&nbsp;&nbsp;</span>LightGBM</a></span></li><li><span><a href=\"#Comparison-Models\" data-toc-modified-id=\"Comparison-Models-6.11\"><span class=\"toc-item-num\">6.11&nbsp;&nbsp;</span>Comparison Models</a></span></li></ul></li><li><span><a href=\"#Feature-Importance-of-Different-Attributes\" data-toc-modified-id=\"Feature-Importance-of-Different-Attributes-7\"><span class=\"toc-item-num\">7&nbsp;&nbsp;</span>Feature Importance of Different Attributes</a></span><ul class=\"toc-item\"><li><span><a href=\"#LightGBM-feature-importance\" data-toc-modified-id=\"LightGBM-feature-importance-7.1\"><span class=\"toc-item-num\">7.1&nbsp;&nbsp;</span>LightGBM feature importance</a></span></li><li><span><a href=\"#XGBoost-feature-importance\" data-toc-modified-id=\"XGBoost-feature-importance-7.2\"><span class=\"toc-item-num\">7.2&nbsp;&nbsp;</span>XGBoost feature importance</a></span></li><li><span><a href=\"#DecisionTree-feature-importance\" data-toc-modified-id=\"DecisionTree-feature-importance-7.3\"><span class=\"toc-item-num\">7.3&nbsp;&nbsp;</span>DecisionTree feature importance</a></span></li><li><span><a href=\"#Random-Forest-feature-importance\" data-toc-modified-id=\"Random-Forest-feature-importance-7.4\"><span class=\"toc-item-num\">7.4&nbsp;&nbsp;</span>Random Forest feature importance</a></span></li></ul></li><li><span><a href=\"#Reflection\" data-toc-modified-id=\"Reflection-8\"><span class=\"toc-item-num\">8&nbsp;&nbsp;</span>Reflection</a></span></li></ul></div>"
   ]
  },
  {
   "cell_type": "markdown",
   "metadata": {
    "slideshow": {
     "slide_type": "slide"
    }
   },
   "source": [
    "## **Install Python Packages**\n"
   ]
  },
  {
   "cell_type": "code",
   "execution_count": 1,
   "metadata": {
    "slideshow": {
     "slide_type": "-"
    }
   },
   "outputs": [],
   "source": [
    "# !pip3 install seaborn\n",
    "# !pip3 install matplotlib\n",
    "# !pip3 install pandas\n",
    "# !pip3 install xgboost\n",
    "# !pip3 install lighgbm\n",
    "# !pip3 install mlxtend\n",
    "# !pip install python-dateutil==2.5.0"
   ]
  },
  {
   "cell_type": "markdown",
   "metadata": {
    "slideshow": {
     "slide_type": "slide"
    }
   },
   "source": [
    "## Fetching Data "
   ]
  },
  {
   "cell_type": "markdown",
   "metadata": {
    "slideshow": {
     "slide_type": "slide"
    }
   },
   "source": [
    "### Import Package and Data"
   ]
  },
  {
   "cell_type": "code",
   "execution_count": 2,
   "metadata": {
    "slideshow": {
     "slide_type": "slide"
    }
   },
   "outputs": [],
   "source": [
    "#import python packages\n",
    "import pandas as pd\n",
    "import numpy as np\n",
    "import seaborn as sns\n",
    "import matplotlib.pyplot as plt\n",
    "import sklearn \n",
    "%matplotlib inline\n",
    "import warnings\n",
    "warnings.filterwarnings('ignore')\n",
    "\n"
   ]
  },
  {
   "cell_type": "code",
   "execution_count": 3,
   "metadata": {
    "slideshow": {
     "slide_type": "slide"
    }
   },
   "outputs": [
    {
     "data": {
      "text/html": [
       "<div>\n",
       "<style scoped>\n",
       "    .dataframe tbody tr th:only-of-type {\n",
       "        vertical-align: middle;\n",
       "    }\n",
       "\n",
       "    .dataframe tbody tr th {\n",
       "        vertical-align: top;\n",
       "    }\n",
       "\n",
       "    .dataframe thead th {\n",
       "        text-align: right;\n",
       "    }\n",
       "</style>\n",
       "<table border=\"1\" class=\"dataframe\">\n",
       "  <thead>\n",
       "    <tr style=\"text-align: right;\">\n",
       "      <th></th>\n",
       "      <th>competitorname</th>\n",
       "      <th>chocolate</th>\n",
       "      <th>fruity</th>\n",
       "      <th>caramel</th>\n",
       "      <th>peanutyalmondy</th>\n",
       "      <th>nougat</th>\n",
       "      <th>crispedricewafer</th>\n",
       "      <th>hard</th>\n",
       "      <th>bar</th>\n",
       "      <th>pluribus</th>\n",
       "      <th>sugarpercent</th>\n",
       "      <th>pricepercent</th>\n",
       "      <th>winpercent</th>\n",
       "    </tr>\n",
       "  </thead>\n",
       "  <tbody>\n",
       "    <tr>\n",
       "      <th>0</th>\n",
       "      <td>100 Grand</td>\n",
       "      <td>1</td>\n",
       "      <td>0</td>\n",
       "      <td>1</td>\n",
       "      <td>0</td>\n",
       "      <td>0</td>\n",
       "      <td>1</td>\n",
       "      <td>0</td>\n",
       "      <td>1</td>\n",
       "      <td>0</td>\n",
       "      <td>0.732</td>\n",
       "      <td>0.860</td>\n",
       "      <td>66.971725</td>\n",
       "    </tr>\n",
       "    <tr>\n",
       "      <th>1</th>\n",
       "      <td>3 Musketeers</td>\n",
       "      <td>1</td>\n",
       "      <td>0</td>\n",
       "      <td>0</td>\n",
       "      <td>0</td>\n",
       "      <td>1</td>\n",
       "      <td>0</td>\n",
       "      <td>0</td>\n",
       "      <td>1</td>\n",
       "      <td>0</td>\n",
       "      <td>0.604</td>\n",
       "      <td>0.511</td>\n",
       "      <td>67.602936</td>\n",
       "    </tr>\n",
       "    <tr>\n",
       "      <th>2</th>\n",
       "      <td>One dime</td>\n",
       "      <td>0</td>\n",
       "      <td>0</td>\n",
       "      <td>0</td>\n",
       "      <td>0</td>\n",
       "      <td>0</td>\n",
       "      <td>0</td>\n",
       "      <td>0</td>\n",
       "      <td>0</td>\n",
       "      <td>0</td>\n",
       "      <td>0.011</td>\n",
       "      <td>0.116</td>\n",
       "      <td>32.261086</td>\n",
       "    </tr>\n",
       "    <tr>\n",
       "      <th>3</th>\n",
       "      <td>One quarter</td>\n",
       "      <td>0</td>\n",
       "      <td>0</td>\n",
       "      <td>0</td>\n",
       "      <td>0</td>\n",
       "      <td>0</td>\n",
       "      <td>0</td>\n",
       "      <td>0</td>\n",
       "      <td>0</td>\n",
       "      <td>0</td>\n",
       "      <td>0.011</td>\n",
       "      <td>0.511</td>\n",
       "      <td>46.116505</td>\n",
       "    </tr>\n",
       "    <tr>\n",
       "      <th>4</th>\n",
       "      <td>Air Heads</td>\n",
       "      <td>0</td>\n",
       "      <td>1</td>\n",
       "      <td>0</td>\n",
       "      <td>0</td>\n",
       "      <td>0</td>\n",
       "      <td>0</td>\n",
       "      <td>0</td>\n",
       "      <td>0</td>\n",
       "      <td>0</td>\n",
       "      <td>0.906</td>\n",
       "      <td>0.511</td>\n",
       "      <td>52.341465</td>\n",
       "    </tr>\n",
       "  </tbody>\n",
       "</table>\n",
       "</div>"
      ],
      "text/plain": [
       "  competitorname  chocolate  fruity  caramel  peanutyalmondy  nougat  \\\n",
       "0      100 Grand          1       0        1               0       0   \n",
       "1   3 Musketeers          1       0        0               0       1   \n",
       "2       One dime          0       0        0               0       0   \n",
       "3    One quarter          0       0        0               0       0   \n",
       "4      Air Heads          0       1        0               0       0   \n",
       "\n",
       "   crispedricewafer  hard  bar  pluribus  sugarpercent  pricepercent  \\\n",
       "0                 1     0    1         0         0.732         0.860   \n",
       "1                 0     0    1         0         0.604         0.511   \n",
       "2                 0     0    0         0         0.011         0.116   \n",
       "3                 0     0    0         0         0.011         0.511   \n",
       "4                 0     0    0         0         0.906         0.511   \n",
       "\n",
       "   winpercent  \n",
       "0   66.971725  \n",
       "1   67.602936  \n",
       "2   32.261086  \n",
       "3   46.116505  \n",
       "4   52.341465  "
      ]
     },
     "execution_count": 3,
     "metadata": {},
     "output_type": "execute_result"
    }
   ],
   "source": [
    "# Read data from csv file\n",
    "df = pd.read_csv(\"./candy-data.csv\")\n",
    "df.head()"
   ]
  },
  {
   "cell_type": "code",
   "execution_count": 4,
   "metadata": {},
   "outputs": [
    {
     "data": {
      "text/plain": [
       "(85, 13)"
      ]
     },
     "execution_count": 4,
     "metadata": {},
     "output_type": "execute_result"
    }
   ],
   "source": [
    "df.shape"
   ]
  },
  {
   "cell_type": "code",
   "execution_count": 5,
   "metadata": {
    "slideshow": {
     "slide_type": "slide"
    }
   },
   "outputs": [
    {
     "data": {
      "text/html": [
       "<div>\n",
       "<style scoped>\n",
       "    .dataframe tbody tr th:only-of-type {\n",
       "        vertical-align: middle;\n",
       "    }\n",
       "\n",
       "    .dataframe tbody tr th {\n",
       "        vertical-align: top;\n",
       "    }\n",
       "\n",
       "    .dataframe thead th {\n",
       "        text-align: right;\n",
       "    }\n",
       "</style>\n",
       "<table border=\"1\" class=\"dataframe\">\n",
       "  <thead>\n",
       "    <tr style=\"text-align: right;\">\n",
       "      <th></th>\n",
       "      <th>chocolate</th>\n",
       "      <th>fruity</th>\n",
       "      <th>caramel</th>\n",
       "      <th>peanutyalmondy</th>\n",
       "      <th>nougat</th>\n",
       "      <th>crispedricewafer</th>\n",
       "      <th>hard</th>\n",
       "      <th>bar</th>\n",
       "      <th>pluribus</th>\n",
       "      <th>sugarpercent</th>\n",
       "      <th>pricepercent</th>\n",
       "      <th>winpercent</th>\n",
       "    </tr>\n",
       "  </thead>\n",
       "  <tbody>\n",
       "    <tr>\n",
       "      <th>count</th>\n",
       "      <td>85.000000</td>\n",
       "      <td>85.000000</td>\n",
       "      <td>85.000000</td>\n",
       "      <td>85.000000</td>\n",
       "      <td>85.000000</td>\n",
       "      <td>85.000000</td>\n",
       "      <td>85.000000</td>\n",
       "      <td>85.000000</td>\n",
       "      <td>85.000000</td>\n",
       "      <td>85.000000</td>\n",
       "      <td>85.000000</td>\n",
       "      <td>85.000000</td>\n",
       "    </tr>\n",
       "    <tr>\n",
       "      <th>mean</th>\n",
       "      <td>0.435294</td>\n",
       "      <td>0.447059</td>\n",
       "      <td>0.164706</td>\n",
       "      <td>0.164706</td>\n",
       "      <td>0.082353</td>\n",
       "      <td>0.082353</td>\n",
       "      <td>0.176471</td>\n",
       "      <td>0.247059</td>\n",
       "      <td>0.517647</td>\n",
       "      <td>0.478647</td>\n",
       "      <td>0.468882</td>\n",
       "      <td>50.316764</td>\n",
       "    </tr>\n",
       "    <tr>\n",
       "      <th>std</th>\n",
       "      <td>0.498738</td>\n",
       "      <td>0.500140</td>\n",
       "      <td>0.373116</td>\n",
       "      <td>0.373116</td>\n",
       "      <td>0.276533</td>\n",
       "      <td>0.276533</td>\n",
       "      <td>0.383482</td>\n",
       "      <td>0.433861</td>\n",
       "      <td>0.502654</td>\n",
       "      <td>0.282778</td>\n",
       "      <td>0.285740</td>\n",
       "      <td>14.714357</td>\n",
       "    </tr>\n",
       "    <tr>\n",
       "      <th>min</th>\n",
       "      <td>0.000000</td>\n",
       "      <td>0.000000</td>\n",
       "      <td>0.000000</td>\n",
       "      <td>0.000000</td>\n",
       "      <td>0.000000</td>\n",
       "      <td>0.000000</td>\n",
       "      <td>0.000000</td>\n",
       "      <td>0.000000</td>\n",
       "      <td>0.000000</td>\n",
       "      <td>0.011000</td>\n",
       "      <td>0.011000</td>\n",
       "      <td>22.445341</td>\n",
       "    </tr>\n",
       "    <tr>\n",
       "      <th>25%</th>\n",
       "      <td>0.000000</td>\n",
       "      <td>0.000000</td>\n",
       "      <td>0.000000</td>\n",
       "      <td>0.000000</td>\n",
       "      <td>0.000000</td>\n",
       "      <td>0.000000</td>\n",
       "      <td>0.000000</td>\n",
       "      <td>0.000000</td>\n",
       "      <td>0.000000</td>\n",
       "      <td>0.220000</td>\n",
       "      <td>0.255000</td>\n",
       "      <td>39.141056</td>\n",
       "    </tr>\n",
       "    <tr>\n",
       "      <th>50%</th>\n",
       "      <td>0.000000</td>\n",
       "      <td>0.000000</td>\n",
       "      <td>0.000000</td>\n",
       "      <td>0.000000</td>\n",
       "      <td>0.000000</td>\n",
       "      <td>0.000000</td>\n",
       "      <td>0.000000</td>\n",
       "      <td>0.000000</td>\n",
       "      <td>1.000000</td>\n",
       "      <td>0.465000</td>\n",
       "      <td>0.465000</td>\n",
       "      <td>47.829754</td>\n",
       "    </tr>\n",
       "    <tr>\n",
       "      <th>75%</th>\n",
       "      <td>1.000000</td>\n",
       "      <td>1.000000</td>\n",
       "      <td>0.000000</td>\n",
       "      <td>0.000000</td>\n",
       "      <td>0.000000</td>\n",
       "      <td>0.000000</td>\n",
       "      <td>0.000000</td>\n",
       "      <td>0.000000</td>\n",
       "      <td>1.000000</td>\n",
       "      <td>0.732000</td>\n",
       "      <td>0.651000</td>\n",
       "      <td>59.863998</td>\n",
       "    </tr>\n",
       "    <tr>\n",
       "      <th>max</th>\n",
       "      <td>1.000000</td>\n",
       "      <td>1.000000</td>\n",
       "      <td>1.000000</td>\n",
       "      <td>1.000000</td>\n",
       "      <td>1.000000</td>\n",
       "      <td>1.000000</td>\n",
       "      <td>1.000000</td>\n",
       "      <td>1.000000</td>\n",
       "      <td>1.000000</td>\n",
       "      <td>0.988000</td>\n",
       "      <td>0.976000</td>\n",
       "      <td>84.180290</td>\n",
       "    </tr>\n",
       "  </tbody>\n",
       "</table>\n",
       "</div>"
      ],
      "text/plain": [
       "       chocolate     fruity    caramel  peanutyalmondy     nougat  \\\n",
       "count  85.000000  85.000000  85.000000       85.000000  85.000000   \n",
       "mean    0.435294   0.447059   0.164706        0.164706   0.082353   \n",
       "std     0.498738   0.500140   0.373116        0.373116   0.276533   \n",
       "min     0.000000   0.000000   0.000000        0.000000   0.000000   \n",
       "25%     0.000000   0.000000   0.000000        0.000000   0.000000   \n",
       "50%     0.000000   0.000000   0.000000        0.000000   0.000000   \n",
       "75%     1.000000   1.000000   0.000000        0.000000   0.000000   \n",
       "max     1.000000   1.000000   1.000000        1.000000   1.000000   \n",
       "\n",
       "       crispedricewafer       hard        bar   pluribus  sugarpercent  \\\n",
       "count         85.000000  85.000000  85.000000  85.000000     85.000000   \n",
       "mean           0.082353   0.176471   0.247059   0.517647      0.478647   \n",
       "std            0.276533   0.383482   0.433861   0.502654      0.282778   \n",
       "min            0.000000   0.000000   0.000000   0.000000      0.011000   \n",
       "25%            0.000000   0.000000   0.000000   0.000000      0.220000   \n",
       "50%            0.000000   0.000000   0.000000   1.000000      0.465000   \n",
       "75%            0.000000   0.000000   0.000000   1.000000      0.732000   \n",
       "max            1.000000   1.000000   1.000000   1.000000      0.988000   \n",
       "\n",
       "       pricepercent  winpercent  \n",
       "count     85.000000   85.000000  \n",
       "mean       0.468882   50.316764  \n",
       "std        0.285740   14.714357  \n",
       "min        0.011000   22.445341  \n",
       "25%        0.255000   39.141056  \n",
       "50%        0.465000   47.829754  \n",
       "75%        0.651000   59.863998  \n",
       "max        0.976000   84.180290  "
      ]
     },
     "execution_count": 5,
     "metadata": {},
     "output_type": "execute_result"
    }
   ],
   "source": [
    "# Overview of data\n",
    "df.describe()"
   ]
  },
  {
   "cell_type": "code",
   "execution_count": 6,
   "metadata": {},
   "outputs": [
    {
     "name": "stdout",
     "output_type": "stream",
     "text": [
      "<class 'pandas.core.frame.DataFrame'>\n",
      "RangeIndex: 85 entries, 0 to 84\n",
      "Data columns (total 13 columns):\n",
      "competitorname      85 non-null object\n",
      "chocolate           85 non-null int64\n",
      "fruity              85 non-null int64\n",
      "caramel             85 non-null int64\n",
      "peanutyalmondy      85 non-null int64\n",
      "nougat              85 non-null int64\n",
      "crispedricewafer    85 non-null int64\n",
      "hard                85 non-null int64\n",
      "bar                 85 non-null int64\n",
      "pluribus            85 non-null int64\n",
      "sugarpercent        85 non-null float64\n",
      "pricepercent        85 non-null float64\n",
      "winpercent          85 non-null float64\n",
      "dtypes: float64(3), int64(9), object(1)\n",
      "memory usage: 8.7+ KB\n"
     ]
    }
   ],
   "source": [
    "# datatype\n",
    "df.info()"
   ]
  },
  {
   "cell_type": "markdown",
   "metadata": {
    "slideshow": {
     "slide_type": "slide"
    }
   },
   "source": [
    "### **Data Dictionary**\n",
    "\n",
    "** *1. Categorical(binary) Attributes: 1 means yes, 0 means no* **\n",
    " * **chocolate**: (categorical) Does it contain chocolate?\n",
    " * **fruity**: (categorical) Is it fruit flavored?\n",
    " * **caramel**: (categorical) Is there caramel in the candy?\n",
    " * **peanutalmondy**: (categorical) Does it contain peanuts, peanut butter or almonds? \n",
    " * **nougat**: (categorical) Does it contain nougat?\n",
    " * **crispedricewafer**: (categorical) Does it contain crisped rice, wafers, or a cookie component?\n",
    " * **hard** (categorical) Is it a hard candy? \n",
    " * **bar** (categorical) Is it a candy bar?\n",
    " * **pluribus** (categorical) Is it one of many candies in a bag or box?\n",
    " \n"
   ]
  },
  {
   "cell_type": "markdown",
   "metadata": {
    "slideshow": {
     "slide_type": "-"
    }
   },
   "source": [
    "** *2. Continuous Attributes* **\n",
    " * **sugarpercent** The percentile of sugar it falls under within the data set.\n",
    " * **pricepercent**\tThe unit price percentile compared to the rest of the set.\n",
    " \n",
    "** * 3. Target Variable* **\n",
    " * **winpercent** The overall win percentage according to 269,000 matchups.\n"
   ]
  },
  {
   "cell_type": "markdown",
   "metadata": {
    "slideshow": {
     "slide_type": "slide"
    }
   },
   "source": [
    "## Data Cleaning"
   ]
  },
  {
   "cell_type": "code",
   "execution_count": 7,
   "metadata": {
    "slideshow": {
     "slide_type": "-"
    }
   },
   "outputs": [
    {
     "name": "stdout",
     "output_type": "stream",
     "text": [
      "The number of duplicated rows:  0\n"
     ]
    }
   ],
   "source": [
    "# Checking for duplicated entried\n",
    "print(\"The number of duplicated rows: \", sum(df.duplicated(df.columns)))"
   ]
  },
  {
   "cell_type": "code",
   "execution_count": 8,
   "metadata": {
    "slideshow": {
     "slide_type": "-"
    }
   },
   "outputs": [
    {
     "data": {
      "text/plain": [
       "competitorname      0\n",
       "chocolate           0\n",
       "fruity              0\n",
       "caramel             0\n",
       "peanutyalmondy      0\n",
       "nougat              0\n",
       "crispedricewafer    0\n",
       "hard                0\n",
       "bar                 0\n",
       "pluribus            0\n",
       "sugarpercent        0\n",
       "pricepercent        0\n",
       "winpercent          0\n",
       "dtype: int64"
      ]
     },
     "execution_count": 8,
     "metadata": {},
     "output_type": "execute_result"
    }
   ],
   "source": [
    "# Checking for missing values\n",
    "df.isnull().sum()"
   ]
  },
  {
   "cell_type": "markdown",
   "metadata": {
    "slideshow": {
     "slide_type": "skip"
    }
   },
   "source": [
    "There is no missing value in columns."
   ]
  },
  {
   "cell_type": "code",
   "execution_count": 9,
   "metadata": {
    "slideshow": {
     "slide_type": "-"
    }
   },
   "outputs": [],
   "source": [
    "# Round the float values of continous features\n",
    "df.sugarpercent = np.round(df.sugarpercent, 3)\n",
    "df.pricepercent = np.round(df.pricepercent, 3)\n",
    "df.winpercent = np.round(df.winpercent, 3)\n"
   ]
  },
  {
   "cell_type": "markdown",
   "metadata": {
    "slideshow": {
     "slide_type": "slide"
    }
   },
   "source": [
    "## EDA"
   ]
  },
  {
   "cell_type": "markdown",
   "metadata": {
    "slideshow": {
     "slide_type": "slide"
    }
   },
   "source": [
    "### Most Popular and Least Popular Candies"
   ]
  },
  {
   "cell_type": "code",
   "execution_count": 10,
   "metadata": {},
   "outputs": [
    {
     "data": {
      "text/plain": [
       "<matplotlib.axes._subplots.AxesSubplot at 0x7f2d40236ba8>"
      ]
     },
     "execution_count": 10,
     "metadata": {},
     "output_type": "execute_result"
    },
    {
     "data": {
      "image/png": "[encoded data removed]",
      "text/plain": [
       "<Figure size 432x288 with 1 Axes>"
      ]
     },
     "metadata": {
      "needs_background": "light"
     },
     "output_type": "display_data"
    }
   ],
   "source": [
    "# sort brands\n",
    "popular_candies = df[[\"winpercent\", \"competitorname\"]].sort_values(by=\"winpercent\")\n",
    "pd.concat([popular_candies.head(5), \n",
    "           popular_candies.tail(5)], axis=0).plot(x=\"competitorname\", y=\"winpercent\",kind=\"barh\", \n",
    "                                                  title=\" The most and the leat popular candies\"\n",
    "                                                 , sort_columns=True, color=plt.cm.Paired(np.arange(len(df))))"
   ]
  },
  {
   "cell_type": "code",
   "execution_count": 11,
   "metadata": {
    "slideshow": {
     "slide_type": "slide"
    }
   },
   "outputs": [
    {
     "data": {
      "text/html": [
       "<div>\n",
       "<style scoped>\n",
       "    .dataframe tbody tr th:only-of-type {\n",
       "        vertical-align: middle;\n",
       "    }\n",
       "\n",
       "    .dataframe tbody tr th {\n",
       "        vertical-align: top;\n",
       "    }\n",
       "\n",
       "    .dataframe thead th {\n",
       "        text-align: right;\n",
       "    }\n",
       "</style>\n",
       "<table border=\"1\" class=\"dataframe\">\n",
       "  <thead>\n",
       "    <tr style=\"text-align: right;\">\n",
       "      <th></th>\n",
       "      <th>competitorname</th>\n",
       "      <th>chocolate</th>\n",
       "      <th>fruity</th>\n",
       "      <th>caramel</th>\n",
       "      <th>peanutyalmondy</th>\n",
       "      <th>nougat</th>\n",
       "      <th>crispedricewafer</th>\n",
       "      <th>hard</th>\n",
       "      <th>bar</th>\n",
       "      <th>pluribus</th>\n",
       "      <th>sugarpercent</th>\n",
       "      <th>pricepercent</th>\n",
       "    </tr>\n",
       "  </thead>\n",
       "  <tbody>\n",
       "    <tr>\n",
       "      <th>44</th>\n",
       "      <td>Nik L Nip</td>\n",
       "      <td>0</td>\n",
       "      <td>1</td>\n",
       "      <td>0</td>\n",
       "      <td>0</td>\n",
       "      <td>0</td>\n",
       "      <td>0</td>\n",
       "      <td>0</td>\n",
       "      <td>0</td>\n",
       "      <td>1</td>\n",
       "      <td>0.197</td>\n",
       "      <td>0.976</td>\n",
       "    </tr>\n",
       "    <tr>\n",
       "      <th>52</th>\n",
       "      <td>ReeseÕs Peanut Butter cup</td>\n",
       "      <td>1</td>\n",
       "      <td>0</td>\n",
       "      <td>0</td>\n",
       "      <td>1</td>\n",
       "      <td>0</td>\n",
       "      <td>0</td>\n",
       "      <td>0</td>\n",
       "      <td>0</td>\n",
       "      <td>0</td>\n",
       "      <td>0.720</td>\n",
       "      <td>0.651</td>\n",
       "    </tr>\n",
       "  </tbody>\n",
       "</table>\n",
       "</div>"
      ],
      "text/plain": [
       "               competitorname  chocolate  fruity  caramel  peanutyalmondy  \\\n",
       "44                  Nik L Nip          0       1        0               0   \n",
       "52  ReeseÕs Peanut Butter cup          1       0        0               1   \n",
       "\n",
       "    nougat  crispedricewafer  hard  bar  pluribus  sugarpercent  pricepercent  \n",
       "44       0                 0     0    0         1         0.197         0.976  \n",
       "52       0                 0     0    0         0         0.720         0.651  "
      ]
     },
     "execution_count": 11,
     "metadata": {},
     "output_type": "execute_result"
    }
   ],
   "source": [
    "# composition of candies for most and least popular brands\n",
    "sort_df = df.sort_values(by=\"winpercent\")\n",
    "most_least = pd.concat([sort_df.head(1), sort_df.tail(1)], axis=0).drop(\"winpercent\", axis=1)\n",
    "most_least"
   ]
  },
  {
   "cell_type": "code",
   "execution_count": 12,
   "metadata": {
    "slideshow": {
     "slide_type": "slide"
    }
   },
   "outputs": [
    {
     "data": {
      "text/plain": [
       "<matplotlib.legend.Legend at 0x7f2d3e176b70>"
      ]
     },
     "execution_count": 12,
     "metadata": {},
     "output_type": "execute_result"
    },
    {
     "data": {
      "image/png": "[encoded data removed]",
      "text/plain": [
       "<Figure size 432x288 with 1 Axes>"
      ]
     },
     "metadata": {
      "needs_background": "light"
     },
     "output_type": "display_data"
    }
   ],
   "source": [
    "# plot composition of candies for most and least popular brands\n",
    "f = plt.figure()\n",
    "most_least.plot.bar(x=\"competitorname\", ax=f.gca(), title=\"Composition of most and leat popular candies\")\n",
    "plt.legend(loc='center left', bbox_to_anchor=(1.0, 0.5))\n"
   ]
  },
  {
   "cell_type": "markdown",
   "metadata": {
    "slideshow": {
     "slide_type": "slide"
    }
   },
   "source": [
    "### Most Frequenntly Used Composition"
   ]
  },
  {
   "cell_type": "code",
   "execution_count": 13,
   "metadata": {},
   "outputs": [
    {
     "data": {
      "text/plain": [
       "<matplotlib.axes._subplots.AxesSubplot at 0x7f2d3e0f2c88>"
      ]
     },
     "execution_count": 13,
     "metadata": {},
     "output_type": "execute_result"
    },
    {
     "data": {
      "image/png": "[encoded data removed]",
      "text/plain": [
       "<Figure size 720x360 with 1 Axes>"
      ]
     },
     "metadata": {
      "needs_background": "light"
     },
     "output_type": "display_data"
    }
   ],
   "source": [
    "from mlxtend.frequent_patterns import apriori\n",
    "df1 =  df[df.columns[1:-3]]\n",
    "association = apriori(df1, min_support=0.3,use_colnames=True).sort_values(by='support')\n",
    "\n",
    "\n",
    "association.plot(kind='barh',x='itemsets',y='support',\n",
    "                 title='Most Frequently Used Composition',\n",
    "                 sort_columns=True,figsize = (10,5),legend=False, \n",
    "                 color=plt.cm.Paired(np.arange(len(df))))"
   ]
  },
  {
   "cell_type": "markdown",
   "metadata": {
    "code_folding": [],
    "slideshow": {
     "slide_type": "slide"
    }
   },
   "source": [
    "### Correlation Heatmap"
   ]
  },
  {
   "cell_type": "code",
   "execution_count": 14,
   "metadata": {
    "slideshow": {
     "slide_type": "-"
    }
   },
   "outputs": [
    {
     "data": {
      "image/png": "[encoded data removed]",
      "text/plain": [
       "<Figure size 720x576 with 2 Axes>"
      ]
     },
     "metadata": {
      "needs_background": "light"
     },
     "output_type": "display_data"
    }
   ],
   "source": [
    "# Pearson correlation heatmap of dataset\n",
    "def correlation_heatmap(df):\n",
    "    _ , ax = plt.subplots(figsize =(10, 8))\n",
    "    colormap = sns.diverging_palette(220, 10, as_cmap = True)\n",
    "    \n",
    "    _ = sns.heatmap(\n",
    "        df.corr(), \n",
    "        cmap = \"YlGn\",\n",
    "        square=True, \n",
    "        cbar_kws={'shrink':.9 }, \n",
    "        ax=ax,\n",
    "        annot=True, \n",
    "        linewidths=0.1,vmax=1.0, linecolor='white',\n",
    "        annot_kws={'fontsize':12 }\n",
    "    )\n",
    "    \n",
    "    plt.title('Pearson Correlation of Features', y=1.05, size=15)\n",
    "\n",
    "correlation_heatmap(df)"
   ]
  },
  {
   "cell_type": "markdown",
   "metadata": {
    "slideshow": {
     "slide_type": "subslide"
    }
   },
   "source": [
    "Above heatmap show all pairwise pearson corralation between attributes.\n",
    "The darker color, the more correlation."
   ]
  },
  {
   "cell_type": "code",
   "execution_count": 15,
   "metadata": {
    "slideshow": {
     "slide_type": "slide"
    }
   },
   "outputs": [
    {
     "data": {
      "text/plain": [
       "fruity             -0.380938\n",
       "hard               -0.310381\n",
       "pluribus           -0.247450\n",
       "nougat              0.199379\n",
       "caramel             0.213417\n",
       "sugarpercent        0.229153\n",
       "crispedricewafer    0.324679\n",
       "pricepercent        0.345325\n",
       "peanutyalmondy      0.406193\n",
       "bar                 0.429933\n",
       "chocolate           0.636517\n",
       "winpercent          1.000000\n",
       "Name: winpercent, dtype: float64"
      ]
     },
     "execution_count": 15,
     "metadata": {},
     "output_type": "execute_result"
    }
   ],
   "source": [
    "# Sort correlation between features and winpercent(target)\n",
    "df_corr = df.corr()\n",
    "df_corr[\"winpercent\"].sort_values()"
   ]
  },
  {
   "cell_type": "code",
   "execution_count": 16,
   "metadata": {
    "slideshow": {
     "slide_type": "slide"
    }
   },
   "outputs": [
    {
     "data": {
      "text/plain": [
       "<matplotlib.axes._subplots.AxesSubplot at 0x7f2d3bb614a8>"
      ]
     },
     "execution_count": 16,
     "metadata": {},
     "output_type": "execute_result"
    },
    {
     "data": {
      "image/png": "[encoded data removed]",
      "text/plain": [
       "<Figure size 360x216 with 1 Axes>"
      ]
     },
     "metadata": {
      "needs_background": "light"
     },
     "output_type": "display_data"
    }
   ],
   "source": [
    "# Plot the correlation between winpercent and features\n",
    "df_corr[\"winpercent\"].sort_values(ascending=False)[1:].plot(kind=\"bar\", figsize=(5,3))"
   ]
  },
  {
   "cell_type": "markdown",
   "metadata": {},
   "source": [
    "Above plot show the Pearson Correlation between winnpercent(target) and composition(features)."
   ]
  },
  {
   "cell_type": "markdown",
   "metadata": {
    "slideshow": {
     "slide_type": "slide"
    }
   },
   "source": [
    "### Univariate Analysis for Categorical Features"
   ]
  },
  {
   "cell_type": "code",
   "execution_count": 17,
   "metadata": {},
   "outputs": [
    {
     "data": {
      "text/plain": [
       "(51, 13)"
      ]
     },
     "execution_count": 17,
     "metadata": {},
     "output_type": "execute_result"
    }
   ],
   "source": [
    "# 60 percent of people\n",
    "winner = df[df.winpercent>df.winpercent.quantile(.4)]\n",
    "winner.winpercent.sort_values()\n",
    "winner.shape"
   ]
  },
  {
   "cell_type": "markdown",
   "metadata": {
    "slideshow": {
     "slide_type": "slide"
    }
   },
   "source": [
    "#### chocolate vs. winpercent"
   ]
  },
  {
   "cell_type": "code",
   "execution_count": 18,
   "metadata": {},
   "outputs": [
    {
     "data": {
      "text/plain": [
       "Text(0.5, 1.0, 'Relation between chocolate and winpercent')"
      ]
     },
     "execution_count": 18,
     "metadata": {},
     "output_type": "execute_result"
    },
    {
     "data": {
      "image/png": "[encoded data removed]",
      "text/plain": [
       "<Figure size 360x216 with 1 Axes>"
      ]
     },
     "metadata": {
      "needs_background": "light"
     },
     "output_type": "display_data"
    }
   ],
   "source": [
    "plt.figure(figsize=(5,3))\n",
    "sns.boxplot(x=\"chocolate\", y=\"winpercent\", data=winner, palette=\"Set1\")\n",
    "plt.title(\"Relation between chocolate and winpercent\" )"
   ]
  },
  {
   "cell_type": "markdown",
   "metadata": {},
   "source": [
    "\n",
    " * **Comparison the height of two boxes: More than 60% of the population prefer candies contain chocolate so it might be important feature.** \n"
   ]
  },
  {
   "cell_type": "markdown",
   "metadata": {
    "slideshow": {
     "slide_type": "slide"
    }
   },
   "source": [
    "#### bar vs. winpercent"
   ]
  },
  {
   "cell_type": "code",
   "execution_count": 19,
   "metadata": {},
   "outputs": [
    {
     "data": {
      "image/png": "[encoded data removed]",
      "text/plain": [
       "<Figure size 360x216 with 1 Axes>"
      ]
     },
     "metadata": {
      "needs_background": "light"
     },
     "output_type": "display_data"
    }
   ],
   "source": [
    "plt.figure(figsize=(5,3))\n",
    "sns.boxplot(x=\"bar\", y=\"winpercent\", data=winner, palette=\"Set1\")\n",
    "\n",
    "plt.title(\"Relation between bar and winpercent\" )\n",
    "plt.xlabel('bar', fontsize = 12)\n",
    "plt.ylabel('winpercent', fontsize = 12)\n",
    "plt.xticks(fontsize = 10)\n",
    "plt.yticks(fontsize = 10)\n",
    "\n",
    "plt.savefig('bar_winpercent.png')"
   ]
  },
  {
   "cell_type": "markdown",
   "metadata": {},
   "source": [
    "* ** Comparison the height of two boxes: More than 60% of the population do not like Bar.** \n",
    "* **Confidence boundy is very less to reach out to a clear conlusion.**\n",
    "\n",
    "    "
   ]
  },
  {
   "cell_type": "markdown",
   "metadata": {
    "slideshow": {
     "slide_type": "slide"
    }
   },
   "source": [
    "#### peanutyalmondy vs. winpercent"
   ]
  },
  {
   "cell_type": "code",
   "execution_count": 20,
   "metadata": {},
   "outputs": [
    {
     "data": {
      "image/png": "[encoded data removed]",
      "text/plain": [
       "<Figure size 360x216 with 1 Axes>"
      ]
     },
     "metadata": {
      "needs_background": "light"
     },
     "output_type": "display_data"
    }
   ],
   "source": [
    "plt.figure(figsize=(5,3))\n",
    "sns.boxplot(x=\"peanutyalmondy\", y=\"winpercent\", data=winner, palette=\"Set1\")\n",
    "\n",
    "plt.title(\"Relation between peanutyalmondy and winpercent\" )\n",
    "plt.xlabel('peanutyalmondy', fontsize = 12)\n",
    "plt.ylabel('winpercent', fontsize = 12)\n",
    "plt.xticks(fontsize = 10)\n",
    "plt.yticks(fontsize = 10)\n",
    "\n",
    "plt.savefig('peanutyalmondy_winpercent.png')"
   ]
  },
  {
   "cell_type": "markdown",
   "metadata": {
    "slideshow": {
     "slide_type": "-"
    }
   },
   "source": [
    "  ** Comparison the height of two boxes: More than 60% of the population prefer candies contain paenut/almond so it might be important feature.** \n"
   ]
  },
  {
   "cell_type": "markdown",
   "metadata": {
    "slideshow": {
     "slide_type": "slide"
    }
   },
   "source": [
    "#### crispedricewafer vs winpercent"
   ]
  },
  {
   "cell_type": "code",
   "execution_count": 21,
   "metadata": {
    "slideshow": {
     "slide_type": "-"
    }
   },
   "outputs": [
    {
     "data": {
      "image/png": "[encoded data removed]",
      "text/plain": [
       "<Figure size 360x216 with 1 Axes>"
      ]
     },
     "metadata": {
      "needs_background": "light"
     },
     "output_type": "display_data"
    }
   ],
   "source": [
    "plt.figure(figsize=(5,3))\n",
    "sns.boxplot(x=\"crispedricewafer\", y=\"winpercent\", data=winner, palette=\"Set1\")\n",
    "\n",
    "plt.title(\"Relation between crispedricewafer and winpercent\" )\n",
    "plt.xlabel('crispedricewafer', fontsize = 12)\n",
    "plt.ylabel('winpercent', fontsize = 12)\n",
    "plt.xticks(fontsize = 10)\n",
    "plt.yticks(fontsize = 10)\n",
    "\n",
    "plt.savefig('crispedricewafer_winpercent.png')"
   ]
  },
  {
   "cell_type": "markdown",
   "metadata": {
    "slideshow": {
     "slide_type": "-"
    }
   },
   "source": [
    " ** More than 60% of the population like wafer so it might be important feature.** \n"
   ]
  },
  {
   "cell_type": "markdown",
   "metadata": {
    "slideshow": {
     "slide_type": "slide"
    }
   },
   "source": [
    "#### caramel vs. winpercent"
   ]
  },
  {
   "cell_type": "code",
   "execution_count": 22,
   "metadata": {
    "slideshow": {
     "slide_type": "-"
    }
   },
   "outputs": [
    {
     "data": {
      "image/png": "[encoded data removed]",
      "text/plain": [
       "<Figure size 360x216 with 1 Axes>"
      ]
     },
     "metadata": {
      "needs_background": "light"
     },
     "output_type": "display_data"
    }
   ],
   "source": [
    "plt.figure(figsize=(5,3))\n",
    "sns.boxplot(x=\"caramel\", y=\"winpercent\", data=winner, palette=\"Set1\")\n",
    "\n",
    "plt.title(\"Relation between caramel and winpercent\" )\n",
    "plt.xlabel('caramel', fontsize = 12)\n",
    "plt.ylabel('winpercent', fontsize = 12)\n",
    "plt.xticks(fontsize = 10)\n",
    "plt.yticks(fontsize = 10)\n",
    "\n",
    "plt.savefig('caramel_winpercent.png')"
   ]
  },
  {
   "cell_type": "markdown",
   "metadata": {
    "slideshow": {
     "slide_type": "-"
    }
   },
   "source": [
    " ** More than 60% of the population like caramel so it might be important feature.** \n"
   ]
  },
  {
   "cell_type": "markdown",
   "metadata": {
    "slideshow": {
     "slide_type": "slide"
    }
   },
   "source": [
    "#### nougat vs. winpercent"
   ]
  },
  {
   "cell_type": "code",
   "execution_count": 23,
   "metadata": {
    "slideshow": {
     "slide_type": "-"
    }
   },
   "outputs": [
    {
     "data": {
      "image/png": "[encoded data removed]",
      "text/plain": [
       "<Figure size 360x216 with 1 Axes>"
      ]
     },
     "metadata": {
      "needs_background": "light"
     },
     "output_type": "display_data"
    }
   ],
   "source": [
    "plt.figure(figsize=(5,3))\n",
    "sns.boxplot(x=\"nougat\", y=\"winpercent\", data=winner, palette=\"Set1\")\n",
    "\n",
    "plt.title(\"Relation between nougat and winpercent\" )\n",
    "plt.xlabel('nougat', fontsize = 12)\n",
    "plt.ylabel('winpercent', fontsize = 12)\n",
    "plt.xticks(fontsize = 10)\n",
    "plt.yticks(fontsize = 10)\n",
    "\n",
    "plt.savefig('nougat_winpercent.png')"
   ]
  },
  {
   "cell_type": "markdown",
   "metadata": {
    "slideshow": {
     "slide_type": "-"
    }
   },
   "source": [
    " ** More than 60% of the population like nougat so it might be important feature.** \n"
   ]
  },
  {
   "cell_type": "markdown",
   "metadata": {
    "slideshow": {
     "slide_type": "slide"
    }
   },
   "source": [
    "#### pluribus vs. winpercent"
   ]
  },
  {
   "cell_type": "code",
   "execution_count": 24,
   "metadata": {
    "slideshow": {
     "slide_type": "-"
    }
   },
   "outputs": [
    {
     "data": {
      "image/png": "[encoded data removed]",
      "text/plain": [
       "<Figure size 360x216 with 1 Axes>"
      ]
     },
     "metadata": {
      "needs_background": "light"
     },
     "output_type": "display_data"
    }
   ],
   "source": [
    "plt.figure(figsize=(5,3))\n",
    "sns.boxplot(x=\"pluribus\", y=\"winpercent\", data=winner, palette=\"Set1\")\n",
    "\n",
    "plt.title(\"Relation between pluribus and winpercent\" )\n",
    "plt.xlabel('pluribus', fontsize = 12)\n",
    "plt.ylabel('winpercent', fontsize = 12)\n",
    "plt.xticks(fontsize = 10)\n",
    "plt.yticks(fontsize = 10)\n",
    "\n",
    "plt.savefig('pluribus_winpercent.png')"
   ]
  },
  {
   "cell_type": "markdown",
   "metadata": {
    "slideshow": {
     "slide_type": "-"
    }
   },
   "source": [
    " ** More than 60% of the population do not like pluribus so it might be important feature.** \n"
   ]
  },
  {
   "cell_type": "markdown",
   "metadata": {
    "slideshow": {
     "slide_type": "slide"
    }
   },
   "source": [
    "#### hard vs. winpercent"
   ]
  },
  {
   "cell_type": "code",
   "execution_count": 25,
   "metadata": {
    "slideshow": {
     "slide_type": "-"
    }
   },
   "outputs": [
    {
     "data": {
      "image/png": "[encoded data removed]",
      "text/plain": [
       "<Figure size 360x216 with 1 Axes>"
      ]
     },
     "metadata": {
      "needs_background": "light"
     },
     "output_type": "display_data"
    }
   ],
   "source": [
    "plt.figure(figsize=(5,3))\n",
    "sns.boxplot(x=\"hard\", y=\"winpercent\", data=winner, palette=\"Set1\")\n",
    "\n",
    "plt.title(\"Relation between hard and winpercent\" )\n",
    "plt.xlabel('hard', fontsize = 12)\n",
    "plt.ylabel('winpercent', fontsize = 12)\n",
    "plt.xticks(fontsize = 10)\n",
    "plt.yticks(fontsize = 10)\n",
    "\n",
    "plt.savefig('hard_winpercent.png')"
   ]
  },
  {
   "cell_type": "markdown",
   "metadata": {
    "slideshow": {
     "slide_type": "-"
    }
   },
   "source": [
    " ** More than 60% of the population like soft candies so it might be important feature.** \n"
   ]
  },
  {
   "cell_type": "markdown",
   "metadata": {
    "slideshow": {
     "slide_type": "slide"
    }
   },
   "source": [
    "#### fruity vs. winpercent"
   ]
  },
  {
   "cell_type": "code",
   "execution_count": 26,
   "metadata": {
    "slideshow": {
     "slide_type": "-"
    }
   },
   "outputs": [
    {
     "data": {
      "image/png": "[encoded data removed]",
      "text/plain": [
       "<Figure size 360x216 with 1 Axes>"
      ]
     },
     "metadata": {
      "needs_background": "light"
     },
     "output_type": "display_data"
    }
   ],
   "source": [
    "plt.figure(figsize=(5,3))\n",
    "sns.boxplot(x=\"fruity\", y=\"winpercent\", data=winner, palette=\"Set1\")\n",
    "\n",
    "plt.title(\"Relation between fruity and winpercent\" )\n",
    "plt.xlabel('fruity', fontsize = 12)\n",
    "plt.ylabel('winpercent', fontsize = 12)\n",
    "plt.xticks(fontsize = 10)\n",
    "plt.yticks(fontsize = 10)\n",
    "\n",
    "plt.savefig('fruity_winpercent.png')"
   ]
  },
  {
   "cell_type": "markdown",
   "metadata": {
    "slideshow": {
     "slide_type": "-"
    }
   },
   "source": [
    " ** More than 60% of the population do not like fruity candies so it might be important feature.** \n"
   ]
  },
  {
   "cell_type": "markdown",
   "metadata": {
    "slideshow": {
     "slide_type": "slide"
    }
   },
   "source": [
    "### Bivariate Analysis (countinuous features)"
   ]
  },
  {
   "cell_type": "markdown",
   "metadata": {
    "scrolled": true,
    "slideshow": {
     "slide_type": "slide"
    }
   },
   "source": [
    "#### pricepercent vs. winpercent"
   ]
  },
  {
   "cell_type": "code",
   "execution_count": 27,
   "metadata": {
    "slideshow": {
     "slide_type": "-"
    }
   },
   "outputs": [
    {
     "data": {
      "text/plain": [
       "<Figure size 360x216 with 0 Axes>"
      ]
     },
     "metadata": {},
     "output_type": "display_data"
    },
    {
     "data": {
      "image/png": "[encoded data removed]",
      "text/plain": [
       "<Figure size 432x432 with 3 Axes>"
      ]
     },
     "metadata": {
      "needs_background": "light"
     },
     "output_type": "display_data"
    }
   ],
   "source": [
    "plt.figure(figsize=(5,3))\n",
    "sns.jointplot(x=\"pricepercent\", y=\"winpercent\", data=winner, kind='reg')\n",
    "plt.title(\"Relation between pricepercent and winpercent\" )\n",
    "plt.xlabel('pricepercent', fontsize = 12)\n",
    "plt.ylabel('winpercent', fontsize = 12)\n",
    "plt.xticks(fontsize = 10)\n",
    "plt.yticks(fontsize = 10)\n",
    "\n",
    "plt.savefig('pricepercent_winpercent.png')\n",
    "\n",
    "\n"
   ]
  },
  {
   "cell_type": "markdown",
   "metadata": {
    "slideshow": {
     "slide_type": "-"
    }
   },
   "source": [
    "Linearity of Price and Win Percent:\n",
    "The above plot proves the alternative hypothesis that price percentage is not linear to the popularity of the candy i.e. \n",
    "cost of candy doesn't contribute to the popularity of the candy."
   ]
  },
  {
   "cell_type": "markdown",
   "metadata": {
    "slideshow": {
     "slide_type": "slide"
    }
   },
   "source": [
    "#### sugarpercent vs. winpercent"
   ]
  },
  {
   "cell_type": "code",
   "execution_count": 28,
   "metadata": {
    "slideshow": {
     "slide_type": "-"
    }
   },
   "outputs": [
    {
     "data": {
      "text/plain": [
       "<Figure size 360x216 with 0 Axes>"
      ]
     },
     "metadata": {},
     "output_type": "display_data"
    },
    {
     "data": {
      "image/png": "[encoded data removed]",
      "text/plain": [
       "<Figure size 432x432 with 3 Axes>"
      ]
     },
     "metadata": {
      "needs_background": "light"
     },
     "output_type": "display_data"
    }
   ],
   "source": [
    "plt.figure(figsize=(5,3))\n",
    "sns.jointplot(x=\"sugarpercent\", y=\"winpercent\", data=winner, kind='reg')\n",
    "plt.title(\"Relation between sugerpercernt and winpercent\" )\n",
    "plt.xlabel('sugerpercent', fontsize = 12)\n",
    "plt.ylabel('winpercent', fontsize = 12)\n",
    "plt.xticks(fontsize = 10)\n",
    "plt.yticks(fontsize = 10)\n",
    "\n",
    "plt.savefig('sugerpercent_winpercent.png')\n",
    "\n"
   ]
  },
  {
   "cell_type": "markdown",
   "metadata": {
    "slideshow": {
     "slide_type": "-"
    }
   },
   "source": [
    "Linearity of Sugar and Win Percent:-\n",
    "The above plot proves the alternative hypothesis that sugar percentage is not linear to the popularity of the candy i.e.\n",
    "sugar content of candy doesn't contribute to the popularity of the candy."
   ]
  },
  {
   "cell_type": "markdown",
   "metadata": {
    "slideshow": {
     "slide_type": "slide"
    }
   },
   "source": [
    "## Perform the Training and Feature Ranking"
   ]
  },
  {
   "cell_type": "code",
   "execution_count": 29,
   "metadata": {
    "slideshow": {
     "slide_type": "slide"
    }
   },
   "outputs": [],
   "source": [
    "# import packages for building machine learning models \n",
    "import math\n",
    "from sklearn.model_selection import train_test_split\n",
    "from sklearn.ensemble import RandomForestRegressor\n",
    "from sklearn.linear_model import LinearRegression, Ridge, Lasso, LassoLars, ElasticNet\n",
    "from sklearn.metrics import mean_squared_error, mean_absolute_error\n",
    "from sklearn.preprocessing import PolynomialFeatures\n",
    "from sklearn.model_selection import cross_val_score,cross_val_predict\n",
    "\n",
    "from xgboost import XGBRegressor, plot_importance\n",
    "import lightgbm as lgb\n"
   ]
  },
  {
   "cell_type": "code",
   "execution_count": 30,
   "metadata": {
    "slideshow": {
     "slide_type": "skip"
    }
   },
   "outputs": [
    {
     "name": "stdout",
     "output_type": "stream",
     "text": [
      "<class 'pandas.core.frame.DataFrame'>\n",
      "RangeIndex: 85 entries, 0 to 84\n",
      "Data columns (total 13 columns):\n",
      "competitorname      85 non-null object\n",
      "chocolate           85 non-null int64\n",
      "fruity              85 non-null int64\n",
      "caramel             85 non-null int64\n",
      "peanutyalmondy      85 non-null int64\n",
      "nougat              85 non-null int64\n",
      "crispedricewafer    85 non-null int64\n",
      "hard                85 non-null int64\n",
      "bar                 85 non-null int64\n",
      "pluribus            85 non-null int64\n",
      "sugarpercent        85 non-null float64\n",
      "pricepercent        85 non-null float64\n",
      "winpercent          85 non-null float64\n",
      "dtypes: float64(3), int64(9), object(1)\n",
      "memory usage: 8.7+ KB\n"
     ]
    }
   ],
   "source": [
    "df.info()"
   ]
  },
  {
   "cell_type": "markdown",
   "metadata": {
    "slideshow": {
     "slide_type": "slide"
    }
   },
   "source": [
    "### Prepare Train Data"
   ]
  },
  {
   "cell_type": "code",
   "execution_count": 31,
   "metadata": {
    "slideshow": {
     "slide_type": "-"
    }
   },
   "outputs": [
    {
     "data": {
      "text/plain": [
       "((85, 11), (85,))"
      ]
     },
     "execution_count": 31,
     "metadata": {},
     "output_type": "execute_result"
    }
   ],
   "source": [
    "# shuffle data\n",
    "df = df.sample(frac=1)\n",
    "# split data to X and y (features and target)\n",
    "y = df[\"winpercent\"]\n",
    "X = df.drop([\"competitorname\", \"winpercent\"], axis=1)\n",
    "X.shape, y.shape"
   ]
  },
  {
   "cell_type": "code",
   "execution_count": 32,
   "metadata": {
    "slideshow": {
     "slide_type": "-"
    }
   },
   "outputs": [],
   "source": [
    "# split data to train and test data\n",
    "X_train, X_test, y_train, y_test = train_test_split(X, y, test_size=0.1, random_state=42)\n",
    "\n",
    "# lists for saving the error and name of all models \n",
    "cross_error = []\n",
    "models = []"
   ]
  },
  {
   "cell_type": "markdown",
   "metadata": {
    "slideshow": {
     "slide_type": "slide"
    }
   },
   "source": [
    "### RandomForest"
   ]
  },
  {
   "cell_type": "code",
   "execution_count": 33,
   "metadata": {
    "slideshow": {
     "slide_type": "-"
    }
   },
   "outputs": [
    {
     "name": "stdout",
     "output_type": "stream",
     "text": [
      "Train error = 5.004099454237478 percent in RandomForest Regression\n",
      "Test error = 9.726970490022493 percent in RandomForest Regression\n"
     ]
    }
   ],
   "source": [
    "# random forest as a predictive model\n",
    "rf_reg = RandomForestRegressor(n_estimators=100, random_state=42).fit(X_train, y_train)\n",
    "\n",
    "y_train_pred = rf_reg.predict(X_train)\n",
    "y_test_pred = rf_reg.predict(X_test)\n",
    "\n",
    "train_error_rf = mean_squared_error(y_train, y_train_pred)**.5\n",
    "test_error_rf = mean_squared_error(y_test, y_test_pred)**.5\n",
    "\n",
    "models.append(\"RandomForest\")\n",
    "\n",
    "print(\"Train error = \"'{}'.format(train_error_rf)+\" percent in RandomForest Regression\")\n",
    "print(\"Test error = \"'{}'.format(test_error_rf)+\" percent in RandomForest Regression\")"
   ]
  },
  {
   "cell_type": "code",
   "execution_count": 34,
   "metadata": {},
   "outputs": [
    {
     "name": "stdout",
     "output_type": "stream",
     "text": [
      "Error = 11.69879266959151 percent in RandomForest Regression\n"
     ]
    }
   ],
   "source": [
    "# cross validation\n",
    "rf_reg = RandomForestRegressor(n_estimators=100, random_state=42)\n",
    "pred= cross_val_predict(rf_reg, X, y, cv=10)\n",
    "cross_error_rf = mean_squared_error(y, pred)**.5\n",
    "cross_error.append(cross_error_rf)\n",
    "print(\"Error = \"'{}'.format(cross_error_rf)+\" percent in RandomForest Regression\")\n"
   ]
  },
  {
   "cell_type": "markdown",
   "metadata": {
    "slideshow": {
     "slide_type": "slide"
    }
   },
   "source": [
    "### DecisionTree"
   ]
  },
  {
   "cell_type": "code",
   "execution_count": 35,
   "metadata": {
    "slideshow": {
     "slide_type": "-"
    }
   },
   "outputs": [
    {
     "name": "stdout",
     "output_type": "stream",
     "text": [
      "Error = 12.739764646789553 percent in DecisionTree Regression\n"
     ]
    }
   ],
   "source": [
    "dt_reg = sklearn.tree.DecisionTreeRegressor(max_depth=3)\n",
    "\n",
    "score_dt = cross_val_score(dt_reg, X, y, cv=10)\n",
    "pred = cross_val_predict(dt_reg, X, y, cv=10)\n",
    "cross_error_dt = mean_squared_error(y, pred)**.5\n",
    "cross_error.append(cross_error_dt)\n",
    "\n",
    "models.append(\"DecisionTree\")\n",
    "  \n",
    "print(\"Error = \"'{}'.format(cross_error_dt)+\" percent in DecisionTree Regression\")\n"
   ]
  },
  {
   "cell_type": "markdown",
   "metadata": {
    "slideshow": {
     "slide_type": "slide"
    }
   },
   "source": [
    "### XGBoost"
   ]
  },
  {
   "cell_type": "code",
   "execution_count": 36,
   "metadata": {
    "slideshow": {
     "slide_type": "-"
    }
   },
   "outputs": [
    {
     "name": "stdout",
     "output_type": "stream",
     "text": [
      "[08:13:25] WARNING: /workspace/src/objective/regression_obj.cu:152: reg:linear is now deprecated in favor of reg:squarederror.\n",
      "[08:13:25] WARNING: /workspace/src/objective/regression_obj.cu:152: reg:linear is now deprecated in favor of reg:squarederror.\n",
      "[08:13:25] WARNING: /workspace/src/objective/regression_obj.cu:152: reg:linear is now deprecated in favor of reg:squarederror.\n",
      "[08:13:25] WARNING: /workspace/src/objective/regression_obj.cu:152: reg:linear is now deprecated in favor of reg:squarederror.\n",
      "[08:13:25] WARNING: /workspace/src/objective/regression_obj.cu:152: reg:linear is now deprecated in favor of reg:squarederror.\n",
      "[08:13:25] WARNING: /workspace/src/objective/regression_obj.cu:152: reg:linear is now deprecated in favor of reg:squarederror.\n",
      "[08:13:25] WARNING: /workspace/src/objective/regression_obj.cu:152: reg:linear is now deprecated in favor of reg:squarederror.\n",
      "[08:13:25] WARNING: /workspace/src/objective/regression_obj.cu:152: reg:linear is now deprecated in favor of reg:squarederror.\n",
      "[08:13:25] WARNING: /workspace/src/objective/regression_obj.cu:152: reg:linear is now deprecated in favor of reg:squarederror.\n",
      "[08:13:25] WARNING: /workspace/src/objective/regression_obj.cu:152: reg:linear is now deprecated in favor of reg:squarederror.\n",
      "Error = 11.85305626849422 percent in XGBoost Regression\n"
     ]
    }
   ],
   "source": [
    "best_xgb_model = XGBRegressor(colsample_bytree=0.3,\n",
    "                 gamma=0,                 \n",
    "                 learning_rate=0.07,\n",
    "                 max_depth=5,\n",
    "                 min_child_weight=1,\n",
    "                 n_estimators=100,                                                                    \n",
    "                 reg_alpha=0.75,\n",
    "                 reg_lambda=0.45,\n",
    "                 subsample=0.3,\n",
    "                 seed=8)\n",
    "\n",
    "# score_xgb = cross_val_score(best_xgb_model, X, y, cv=10)\n",
    "pred= cross_val_predict(best_xgb_model, X, y, cv=10)\n",
    "cross_error_xgb = mean_squared_error(y, pred)**.5\n",
    "cross_error.append(cross_error_xgb)\n",
    "\n",
    "models.append(\"XGBoost\")\n",
    "   \n",
    "print(\"Error = \"'{}'.format(cross_error_xgb)+\" percent in XGBoost Regression\")\n"
   ]
  },
  {
   "cell_type": "markdown",
   "metadata": {
    "slideshow": {
     "slide_type": "slide"
    }
   },
   "source": [
    "### LinearRegression"
   ]
  },
  {
   "cell_type": "code",
   "execution_count": 37,
   "metadata": {
    "slideshow": {
     "slide_type": "-"
    }
   },
   "outputs": [
    {
     "name": "stdout",
     "output_type": "stream",
     "text": [
      "Error = 11.95125748843291 percent in Linear Regression\n"
     ]
    }
   ],
   "source": [
    "lr_reg = LinearRegression()\n",
    "score_lr = cross_val_score(lr_reg, X, y, cv=10)\n",
    "pred= cross_val_predict(lr_reg, X, y, cv=10)\n",
    "cross_error_lr = mean_squared_error(y, pred)**.5\n",
    "cross_error.append(cross_error_lr)\n",
    "\n",
    "models.append(\"LinearRegression\")\n",
    "\n",
    "print(\"Error = \"'{}'.format(cross_error_lr)+\" percent in Linear Regression\")\n"
   ]
  },
  {
   "cell_type": "markdown",
   "metadata": {
    "slideshow": {
     "slide_type": "slide"
    }
   },
   "source": [
    "### Ridge Regression"
   ]
  },
  {
   "cell_type": "code",
   "execution_count": 38,
   "metadata": {
    "slideshow": {
     "slide_type": "-"
    }
   },
   "outputs": [
    {
     "name": "stdout",
     "output_type": "stream",
     "text": [
      "Error = 11.721930555793428 percent in Ridge Regression\n"
     ]
    }
   ],
   "source": [
    "rg_reg = Ridge(alpha=0.5)\n",
    "score_rg = cross_val_score(rg_reg, X, y, cv=10)\n",
    "pred= cross_val_predict(rg_reg, X, y, cv=10)\n",
    "cross_error_rg = mean_squared_error(y, pred)**.5\n",
    "cross_error.append(cross_error_rg)\n",
    "models.append(\"Ridge\")\n",
    "\n",
    "print(\"Error = \"'{}'.format(cross_error_rg)+\" percent in Ridge Regression\")\n"
   ]
  },
  {
   "cell_type": "markdown",
   "metadata": {
    "slideshow": {
     "slide_type": "slide"
    }
   },
   "source": [
    "### Lasso"
   ]
  },
  {
   "cell_type": "code",
   "execution_count": 39,
   "metadata": {
    "slideshow": {
     "slide_type": "-"
    }
   },
   "outputs": [
    {
     "name": "stdout",
     "output_type": "stream",
     "text": [
      "Error = 11.680590941077165 percent in Lasso Regression\n"
     ]
    }
   ],
   "source": [
    "ls_reg = Lasso(alpha=0.1)\n",
    "score_ls = cross_val_score(ls_reg, X, y, cv=10)\n",
    "pred= cross_val_predict(ls_reg, X, y, cv=10)\n",
    "cross_error_ls = mean_squared_error(y, pred)**.5\n",
    "cross_error.append(cross_error_ls)   \n",
    "models.append(\"Lasso\")\n",
    "    \n",
    "print(\"Error = \"'{}'.format(cross_error_ls)+\" percent in Lasso Regression\")\n"
   ]
  },
  {
   "cell_type": "markdown",
   "metadata": {
    "slideshow": {
     "slide_type": "slide"
    }
   },
   "source": [
    "### LassoLars"
   ]
  },
  {
   "cell_type": "code",
   "execution_count": 40,
   "metadata": {
    "slideshow": {
     "slide_type": "-"
    }
   },
   "outputs": [
    {
     "name": "stdout",
     "output_type": "stream",
     "text": [
      "Error = 11.750936856006346 percent in LassoLars Regression\n"
     ]
    }
   ],
   "source": [
    "ll_reg = LassoLars(alpha = 0.1)\n",
    "score_ll = cross_val_score(ll_reg, X, y, cv=10)\n",
    "pred= cross_val_predict(ll_reg, X, y, cv=10)\n",
    "cross_error_ll = mean_squared_error(y, pred)**.5\n",
    "cross_error.append(cross_error_ll)   \n",
    "models.append(\"LassoLars\")\n",
    "    \n",
    "print(\"Error = \"'{}'.format(cross_error_ll)+\" percent in LassoLars Regression\")\n"
   ]
  },
  {
   "cell_type": "markdown",
   "metadata": {
    "slideshow": {
     "slide_type": "slide"
    }
   },
   "source": [
    "### ElasticNet"
   ]
  },
  {
   "cell_type": "code",
   "execution_count": 41,
   "metadata": {
    "slideshow": {
     "slide_type": "-"
    }
   },
   "outputs": [
    {
     "name": "stdout",
     "output_type": "stream",
     "text": [
      "Error = 12.856456916869632 percent in ElasticNet Regression\n"
     ]
    }
   ],
   "source": [
    "en_reg = ElasticNet(max_iter=1000, random_state=0)\n",
    "score_en = cross_val_score(en_reg, X, y, cv=10)\n",
    "pred= cross_val_predict(en_reg, X, y, cv=10)\n",
    "cross_error_en = mean_squared_error(y, pred)**.5\n",
    "cross_error.append(cross_error_en) \n",
    "models.append(\"ElasticNet\")\n",
    "    \n",
    "print(\"Error = \"'{}'.format(cross_error_en)+\" percent in ElasticNet Regression\")\n"
   ]
  },
  {
   "cell_type": "markdown",
   "metadata": {
    "slideshow": {
     "slide_type": "slide"
    }
   },
   "source": [
    "### LightGBM"
   ]
  },
  {
   "cell_type": "code",
   "execution_count": 42,
   "metadata": {},
   "outputs": [
    {
     "name": "stdout",
     "output_type": "stream",
     "text": [
      "[50]\tvalid_0's l2: 112.179\n",
      "[100]\tvalid_0's l2: 275.112\n",
      "[150]\tvalid_0's l2: 373.588\n",
      "[200]\tvalid_0's l2: 334.096\n",
      "[250]\tvalid_0's l2: 280.322\n",
      "[300]\tvalid_0's l2: 208.779\n",
      "[350]\tvalid_0's l2: 189.312\n",
      "[400]\tvalid_0's l2: 127.956\n",
      "[450]\tvalid_0's l2: 99.5327\n",
      "[500]\tvalid_0's l2: 85.8078\n",
      "[550]\tvalid_0's l2: 76.9573\n",
      "[600]\tvalid_0's l2: 79.9321\n",
      "[650]\tvalid_0's l2: 69.9038\n",
      "[700]\tvalid_0's l2: 66.2168\n",
      "[750]\tvalid_0's l2: 64.293\n",
      "[800]\tvalid_0's l2: 62.8293\n",
      "[850]\tvalid_0's l2: 57.2449\n",
      "[900]\tvalid_0's l2: 55.6263\n",
      "[950]\tvalid_0's l2: 55.2791\n",
      "[1000]\tvalid_0's l2: 54.8033\n",
      "[1050]\tvalid_0's l2: 53.5397\n",
      "[1100]\tvalid_0's l2: 53.3545\n",
      "[1150]\tvalid_0's l2: 53.8257\n",
      "[1200]\tvalid_0's l2: 54.1221\n",
      "[1250]\tvalid_0's l2: 54.6428\n",
      "[1300]\tvalid_0's l2: 54.5941\n",
      "[1350]\tvalid_0's l2: 54.1321\n",
      "[1400]\tvalid_0's l2: 56.3983\n",
      "[1450]\tvalid_0's l2: 56.0017\n",
      "[1500]\tvalid_0's l2: 55.4042\n",
      "[1550]\tvalid_0's l2: 55.0822\n",
      "[1600]\tvalid_0's l2: 58.9456\n",
      "[1650]\tvalid_0's l2: 55.8885\n",
      "[1700]\tvalid_0's l2: 59.4738\n",
      "[1750]\tvalid_0's l2: 60.601\n",
      "[1800]\tvalid_0's l2: 59.1113\n",
      "[1850]\tvalid_0's l2: 60.896\n",
      "[1900]\tvalid_0's l2: 61.4112\n",
      "[1950]\tvalid_0's l2: 61.2353\n",
      "[2000]\tvalid_0's l2: 61.6776\n",
      "[2050]\tvalid_0's l2: 64.1188\n",
      "[2100]\tvalid_0's l2: 66.4707\n",
      "[2150]\tvalid_0's l2: 65.2628\n",
      "[2200]\tvalid_0's l2: 67.6082\n",
      "[2250]\tvalid_0's l2: 66.1301\n",
      "[2300]\tvalid_0's l2: 68.5906\n",
      "[2350]\tvalid_0's l2: 69.8885\n",
      "[2400]\tvalid_0's l2: 72.7223\n",
      "[2450]\tvalid_0's l2: 71.1145\n",
      "[2500]\tvalid_0's l2: 70.7958\n",
      "[2550]\tvalid_0's l2: 68.485\n",
      "[2600]\tvalid_0's l2: 68.7213\n",
      "[2650]\tvalid_0's l2: 68.4911\n",
      "[2700]\tvalid_0's l2: 70.0536\n",
      "[2750]\tvalid_0's l2: 67.1786\n",
      "[2800]\tvalid_0's l2: 67.1951\n",
      "[2850]\tvalid_0's l2: 68.3373\n",
      "[2900]\tvalid_0's l2: 69.627\n",
      "[2950]\tvalid_0's l2: 69.6015\n",
      "[3000]\tvalid_0's l2: 71.393\n",
      "[3050]\tvalid_0's l2: 73.6361\n",
      "[3100]\tvalid_0's l2: 74.1553\n",
      "[3150]\tvalid_0's l2: 74.6944\n",
      "[3200]\tvalid_0's l2: 72.7687\n",
      "[3250]\tvalid_0's l2: 73.8518\n",
      "[3300]\tvalid_0's l2: 75.3113\n",
      "[3350]\tvalid_0's l2: 78.9399\n",
      "[3400]\tvalid_0's l2: 79.7004\n",
      "[3450]\tvalid_0's l2: 78.2506\n",
      "[3500]\tvalid_0's l2: 76.9981\n",
      "[3550]\tvalid_0's l2: 79.7697\n",
      "[3600]\tvalid_0's l2: 80.2628\n",
      "[3650]\tvalid_0's l2: 77.5597\n",
      "[3700]\tvalid_0's l2: 79.5072\n",
      "[3750]\tvalid_0's l2: 80.7975\n",
      "[3800]\tvalid_0's l2: 82.2221\n",
      "[3850]\tvalid_0's l2: 82.2718\n",
      "[3900]\tvalid_0's l2: 81.0983\n",
      "[3950]\tvalid_0's l2: 83.1949\n",
      "[4000]\tvalid_0's l2: 82.3398\n",
      "[4050]\tvalid_0's l2: 81.9502\n",
      "[4100]\tvalid_0's l2: 82.1434\n",
      "[4150]\tvalid_0's l2: 80.8331\n",
      "[4200]\tvalid_0's l2: 80.4097\n",
      "[4250]\tvalid_0's l2: 81.279\n",
      "[4300]\tvalid_0's l2: 79.3472\n",
      "[4350]\tvalid_0's l2: 80.5845\n",
      "[4400]\tvalid_0's l2: 80.8498\n",
      "[4450]\tvalid_0's l2: 80.3443\n",
      "[4500]\tvalid_0's l2: 80.8663\n",
      "[4550]\tvalid_0's l2: 81.4571\n",
      "[4600]\tvalid_0's l2: 80.0999\n",
      "[4650]\tvalid_0's l2: 81.0259\n",
      "[4700]\tvalid_0's l2: 81.8531\n",
      "[4750]\tvalid_0's l2: 83.9495\n",
      "[4800]\tvalid_0's l2: 83.4595\n",
      "[4850]\tvalid_0's l2: 82.1678\n",
      "[4900]\tvalid_0's l2: 83.8615\n",
      "[4950]\tvalid_0's l2: 86.1805\n",
      "[5000]\tvalid_0's l2: 85.4336\n",
      "Error = 10.754514901444852 percent in LightGBM Regression\n"
     ]
    },
    {
     "data": {
      "text/plain": [
       "10.754514901444852"
      ]
     },
     "execution_count": 42,
     "metadata": {},
     "output_type": "execute_result"
    }
   ],
   "source": [
    "params = {\n",
    "'objective' :'regression',\n",
    "'learning_rate' : 0.01,\n",
    "'max_depth' : 7,\n",
    "'num_leaves' : 80,\n",
    "'min_data_in_leaf':20,\n",
    "'feature_fraction': 0.64,\n",
    "'bagging_fraction': 0.8,\n",
    "'bagging_freq':5,\n",
    "'boosting_type' : 'dart',\n",
    "'metric': 'l2'\n",
    "}\n",
    "\n",
    "\n",
    "# making lgbm datasets for train and valid\n",
    "d_train = lgb.Dataset(X_train, y_train)\n",
    "d_valid = lgb.Dataset(X_test, y_test)\n",
    "# training with early stop\n",
    "bst = lgb.train(params, d_train, 5000, valid_sets=[d_valid], verbose_eval=50, early_stopping_rounds=50)\n",
    "\n",
    "y_train_pred = bst.predict(X_train)\n",
    "y_test_pred = bst.predict(X_test)\n",
    "\n",
    "train_error_lgb = mean_squared_error(y_train, y_train_pred)**.5\n",
    "test_error_lgb = mean_squared_error(y_test, y_test_pred)**.5\n",
    "cross_error_lgb = train_error_lgb\n",
    "cross_error.append(train_error_lgb)\n",
    " \n",
    "models.append(\"LightGBM\")\n",
    "    \n",
    "print(\"Error = \"'{}'.format(cross_error_lgb)+\" percent in LightGBM Regression\")\n",
    "\n",
    "\n",
    "cross_error_lgb"
   ]
  },
  {
   "cell_type": "markdown",
   "metadata": {
    "slideshow": {
     "slide_type": "slide"
    }
   },
   "source": [
    "### Comparison Models"
   ]
  },
  {
   "cell_type": "code",
   "execution_count": 43,
   "metadata": {
    "slideshow": {
     "slide_type": "-"
    }
   },
   "outputs": [
    {
     "data": {
      "text/html": [
       "<div>\n",
       "<style scoped>\n",
       "    .dataframe tbody tr th:only-of-type {\n",
       "        vertical-align: middle;\n",
       "    }\n",
       "\n",
       "    .dataframe tbody tr th {\n",
       "        vertical-align: top;\n",
       "    }\n",
       "\n",
       "    .dataframe thead th {\n",
       "        text-align: right;\n",
       "    }\n",
       "</style>\n",
       "<table border=\"1\" class=\"dataframe\">\n",
       "  <thead>\n",
       "    <tr style=\"text-align: right;\">\n",
       "      <th></th>\n",
       "      <th>Error</th>\n",
       "    </tr>\n",
       "  </thead>\n",
       "  <tbody>\n",
       "    <tr>\n",
       "      <th>LightGBM</th>\n",
       "      <td>10.754515</td>\n",
       "    </tr>\n",
       "    <tr>\n",
       "      <th>Lasso</th>\n",
       "      <td>11.680591</td>\n",
       "    </tr>\n",
       "    <tr>\n",
       "      <th>RandomForest</th>\n",
       "      <td>11.698793</td>\n",
       "    </tr>\n",
       "    <tr>\n",
       "      <th>Ridge</th>\n",
       "      <td>11.721931</td>\n",
       "    </tr>\n",
       "    <tr>\n",
       "      <th>LassoLars</th>\n",
       "      <td>11.750937</td>\n",
       "    </tr>\n",
       "    <tr>\n",
       "      <th>XGBoost</th>\n",
       "      <td>11.853056</td>\n",
       "    </tr>\n",
       "    <tr>\n",
       "      <th>LinearRegression</th>\n",
       "      <td>11.951257</td>\n",
       "    </tr>\n",
       "    <tr>\n",
       "      <th>DecisionTree</th>\n",
       "      <td>12.739765</td>\n",
       "    </tr>\n",
       "    <tr>\n",
       "      <th>ElasticNet</th>\n",
       "      <td>12.856457</td>\n",
       "    </tr>\n",
       "  </tbody>\n",
       "</table>\n",
       "</div>"
      ],
      "text/plain": [
       "                      Error\n",
       "LightGBM          10.754515\n",
       "Lasso             11.680591\n",
       "RandomForest      11.698793\n",
       "Ridge             11.721931\n",
       "LassoLars         11.750937\n",
       "XGBoost           11.853056\n",
       "LinearRegression  11.951257\n",
       "DecisionTree      12.739765\n",
       "ElasticNet        12.856457"
      ]
     },
     "execution_count": 43,
     "metadata": {},
     "output_type": "execute_result"
    }
   ],
   "source": [
    "# collect all results\n",
    "col={'Error':cross_error}\n",
    "df_models = pd.DataFrame(data=col,index=models)\n",
    "df_models.sort_values(by=\"Error\")"
   ]
  },
  {
   "cell_type": "code",
   "execution_count": 44,
   "metadata": {
    "slideshow": {
     "slide_type": "slide"
    }
   },
   "outputs": [
    {
     "data": {
      "image/png": "[encoded data removed]",
      "text/plain": [
       "<Figure size 432x288 with 1 Axes>"
      ]
     },
     "metadata": {
      "needs_background": "light"
     },
     "output_type": "display_data"
    }
   ],
   "source": [
    "df_models.sort_values(by='Error', ascending=False).plot(kind='bar')\n",
    "plt.tick_params(axis='x', labelsize=10)\n",
    "plt.tick_params(axis='y', labelsize=10)"
   ]
  },
  {
   "cell_type": "markdown",
   "metadata": {
    "slideshow": {
     "slide_type": "-"
    }
   },
   "source": [
    "LigthGBM, XGboost and RandomForest are the most accurate model by now and Less Error."
   ]
  },
  {
   "cell_type": "markdown",
   "metadata": {
    "slideshow": {
     "slide_type": "slide"
    }
   },
   "source": [
    "## Feature Importance of Different Attributes"
   ]
  },
  {
   "cell_type": "markdown",
   "metadata": {
    "slideshow": {
     "slide_type": "slide"
    }
   },
   "source": [
    "### LightGBM feature importance"
   ]
  },
  {
   "cell_type": "code",
   "execution_count": 45,
   "metadata": {},
   "outputs": [
    {
     "name": "stdout",
     "output_type": "stream",
     "text": [
      "Plotting feature importances...\n"
     ]
    },
    {
     "data": {
      "image/png": "[encoded data removed]",
      "text/plain": [
       "<Figure size 432x288 with 1 Axes>"
      ]
     },
     "metadata": {
      "needs_background": "light"
     },
     "output_type": "display_data"
    }
   ],
   "source": [
    "print('Plotting feature importances...')\n",
    "ax = lgb.plot_importance(bst, max_num_features=10)\n",
    "plt.show()"
   ]
  },
  {
   "cell_type": "markdown",
   "metadata": {
    "slideshow": {
     "slide_type": "slide"
    }
   },
   "source": [
    "### XGBoost feature importance"
   ]
  },
  {
   "cell_type": "code",
   "execution_count": 46,
   "metadata": {},
   "outputs": [
    {
     "name": "stdout",
     "output_type": "stream",
     "text": [
      "[08:13:50] WARNING: /workspace/src/objective/regression_obj.cu:152: reg:linear is now deprecated in favor of reg:squarederror.\n"
     ]
    },
    {
     "data": {
      "image/png": "[encoded data removed]",
      "text/plain": [
       "<Figure size 432x288 with 1 Axes>"
      ]
     },
     "metadata": {
      "needs_background": "light"
     },
     "output_type": "display_data"
    }
   ],
   "source": [
    "plot_importance(best_xgb_model.fit(X, y))\n",
    "plt.rcParams[\"figure.figsize\"] = (30,15)\n",
    "plt.show()"
   ]
  },
  {
   "cell_type": "markdown",
   "metadata": {
    "slideshow": {
     "slide_type": "slide"
    }
   },
   "source": [
    "### DecisionTree feature importance"
   ]
  },
  {
   "cell_type": "code",
   "execution_count": 47,
   "metadata": {},
   "outputs": [
    {
     "data": {
      "text/plain": [
       "<matplotlib.axes._subplots.AxesSubplot at 0x7f2d3e17dd68>"
      ]
     },
     "execution_count": 47,
     "metadata": {},
     "output_type": "execute_result"
    },
    {
     "data": {
      "image/png": "[encoded data removed]",
      "text/plain": [
       "<Figure size 720x360 with 1 Axes>"
      ]
     },
     "metadata": {
      "needs_background": "light"
     },
     "output_type": "display_data"
    }
   ],
   "source": [
    "dt_reg = sklearn.tree.DecisionTreeRegressor(max_depth=3).fit(X, y)\n",
    "\n",
    "feature_imp = pd.DataFrame({'Feature':X.columns, \n",
    "                            'Importance':dt_reg.feature_importances_})\n",
    "feature_imp = feature_imp.sort_values(by='Importance', ascending=True)\n",
    "feature_imp.plot(kind='barh', x='Feature', y='Importance', \n",
    "                 title='Feature Importance', sort_columns=True, figsize = (10,5),\n",
    "                 legend=False)"
   ]
  },
  {
   "cell_type": "markdown",
   "metadata": {
    "slideshow": {
     "slide_type": "slide"
    }
   },
   "source": [
    "### Random Forest feature importance"
   ]
  },
  {
   "cell_type": "code",
   "execution_count": 48,
   "metadata": {},
   "outputs": [
    {
     "data": {
      "text/plain": [
       "<matplotlib.axes._subplots.AxesSubplot at 0x7f2d3802d9e8>"
      ]
     },
     "execution_count": 48,
     "metadata": {},
     "output_type": "execute_result"
    },
    {
     "data": {
      "image/png": "[encoded data removed]",
      "text/plain": [
       "<Figure size 720x360 with 1 Axes>"
      ]
     },
     "metadata": {
      "needs_background": "light"
     },
     "output_type": "display_data"
    }
   ],
   "source": [
    "# Random forest as featur ranking\n",
    "rf_reg = RandomForestRegressor(n_estimators=100, random_state=42).fit(X, y)\n",
    "feature_imp = pd.DataFrame({'Feature':X.columns, \n",
    "                            'Importance':rf_reg.feature_importances_})\n",
    "feature_imp = feature_imp.sort_values(by='Importance', ascending=True)\n",
    "feature_imp.plot(kind='barh', x='Feature', y='Importance', \n",
    "                 title='Feature Importance', sort_columns=True, figsize = (10,5),\n",
    "                 legend=False)"
   ]
  },
  {
   "cell_type": "markdown",
   "metadata": {
    "slideshow": {
     "slide_type": "slide"
    }
   },
   "source": [
    "## Reflection"
   ]
  },
  {
   "cell_type": "markdown",
   "metadata": {
    "slideshow": {
     "slide_type": "-"
    }
   },
   "source": [
    "\n",
    "** Next Step**\n",
    "* Increasing number of data\n",
    "* Gridsearch\n",
    "\n"
   ]
  },
  {
   "cell_type": "markdown",
   "metadata": {
    "slideshow": {
     "slide_type": "slide"
    }
   },
   "source": [
    "![life](https://user-images.githubusercontent.com/31974451/36570647-dfff6248-17e7-11e8-9d1a-3037d4897460.jpeg)\n"
   ]
  },
  {
   "cell_type": "code",
   "execution_count": null,
   "metadata": {},
   "outputs": [],
   "source": []
  }
 ],
 "metadata": {
  "celltoolbar": "Slideshow",
  "kernelspec": {
   "display_name": "Python 2",
   "language": "python",
   "name": "python2"
  },
  "language_info": {
   "codemirror_mode": {
    "name": "ipython",
    "version": 2
   },
   "file_extension": ".py",
   "mimetype": "text/x-python",
   "name": "python",
   "nbconvert_exporter": "python",
   "pygments_lexer": "ipython2",
   "version": "2.7.12"
  },
  "toc": {
   "base_numbering": 1,
   "nav_menu": {
    "height": "223px",
    "width": "209px"
   },
   "number_sections": true,
   "sideBar": true,
   "skip_h1_title": true,
   "title_cell": "Table of Contents",
   "title_sidebar": "Contents",
   "toc_cell": true,
   "toc_position": {},
   "toc_section_display": true,
   "toc_window_display": false
  }
 },
 "nbformat": 4,
 "nbformat_minor": 2
}
